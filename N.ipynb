{
 "cells": [
  {
   "cell_type": "code",
   "execution_count": 47,
   "id": "5dd74df6-27af-4ffb-a2b9-32f0ab6cd7f6",
   "metadata": {},
   "outputs": [
    {
     "data": {
      "text/plain": [
       "array([1, 2, 3])"
      ]
     },
     "execution_count": 47,
     "metadata": {},
     "output_type": "execute_result"
    }
   ],
   "source": [
    "import numpy as np\n",
    "arr=np.array([1,2,3])\n",
    "arr"
   ]
  },
  {
   "cell_type": "code",
   "execution_count": 27,
   "id": "28a68052-7ac5-4c3f-8bfe-d0e8302f5909",
   "metadata": {},
   "outputs": [
    {
     "data": {
      "text/plain": [
       "array([[0., 0., 0.],\n",
       "       [0., 0., 0.]])"
      ]
     },
     "execution_count": 27,
     "metadata": {},
     "output_type": "execute_result"
    }
   ],
   "source": [
    "np.zeros([2,3])"
   ]
  },
  {
   "cell_type": "code",
   "execution_count": 25,
   "id": "2cdbb44f-dd29-4c47-ab4a-283b0f41c1dd",
   "metadata": {},
   "outputs": [
    {
     "data": {
      "text/plain": [
       "array([[1., 1., 1.]])"
      ]
     },
     "execution_count": 25,
     "metadata": {},
     "output_type": "execute_result"
    }
   ],
   "source": [
    "np.ones([1,3])"
   ]
  },
  {
   "cell_type": "raw",
   "id": "d6e4debe-8247-4e4d-a262-b9b19e4017b7",
   "metadata": {},
   "source": [
    "np.full((3, 3), 7)"
   ]
  },
  {
   "cell_type": "code",
   "execution_count": 23,
   "id": "00fdcb39-778a-48f3-ac28-91880bf44bf3",
   "metadata": {},
   "outputs": [
    {
     "data": {
      "text/plain": [
       "array([[1., 0., 0.],\n",
       "       [0., 1., 0.],\n",
       "       [0., 0., 1.]])"
      ]
     },
     "execution_count": 23,
     "metadata": {},
     "output_type": "execute_result"
    }
   ],
   "source": [
    "np.eye(3)"
   ]
  },
  {
   "cell_type": "code",
   "execution_count": 33,
   "id": "93ebfcb1-d41f-4fb1-81a2-f60dd011c422",
   "metadata": {},
   "outputs": [
    {
     "data": {
      "text/plain": [
       "array([ 0. ,  2.5,  5. ,  7.5, 10. ])"
      ]
     },
     "execution_count": 33,
     "metadata": {},
     "output_type": "execute_result"
    }
   ],
   "source": [
    "np.linspace(0, 10, 5)"
   ]
  },
  {
   "cell_type": "code",
   "execution_count": 35,
   "id": "7036fdda-4c62-476d-a371-3ab6b6f78782",
   "metadata": {},
   "outputs": [
    {
     "data": {
      "text/plain": [
       "array([0, 2, 4, 6, 8])"
      ]
     },
     "execution_count": 35,
     "metadata": {},
     "output_type": "execute_result"
    }
   ],
   "source": [
    "np.arange(0, 10, 2)"
   ]
  },
  {
   "cell_type": "code",
   "execution_count": 39,
   "id": "5f2a1d69-17d3-438a-9a67-8d4bf40a8609",
   "metadata": {},
   "outputs": [
    {
     "data": {
      "text/plain": [
       "(array([[0.86889145, 0.94580808, 0.25584297],\n",
       "        [0.31451974, 0.25019018, 0.62752659]]),\n",
       " array([[ 0.64212601, -1.91299395,  0.62068162],\n",
       "        [ 1.83660751, -0.32906328,  1.53535883],\n",
       "        [ 1.36216221, -0.5135325 , -1.10017567]]))"
      ]
     },
     "execution_count": 39,
     "metadata": {},
     "output_type": "execute_result"
    }
   ],
   "source": [
    "np.random.rand(2, 3), np.random.randn(3, 3)"
   ]
  },
  {
   "cell_type": "code",
   "execution_count": 69,
   "id": "106bd774-7c6f-4824-95fd-31604f75e4f3",
   "metadata": {},
   "outputs": [
    {
     "data": {
      "text/plain": [
       "array([[2, 7, 6],\n",
       "       [8, 2, 5],\n",
       "       [6, 7, 5]])"
      ]
     },
     "execution_count": 69,
     "metadata": {},
     "output_type": "execute_result"
    }
   ],
   "source": [
    "a=np.random.randint(0, 10, size=(3, 3))\n",
    "a"
   ]
  },
  {
   "cell_type": "code",
   "execution_count": 83,
   "id": "afc6c616-2e98-4069-b7f4-8dd8020957d2",
   "metadata": {},
   "outputs": [
    {
     "data": {
      "text/plain": [
       "array([[5, 7, 7],\n",
       "       [4, 5, 0],\n",
       "       [6, 0, 5]])"
      ]
     },
     "execution_count": 83,
     "metadata": {},
     "output_type": "execute_result"
    }
   ],
   "source": [
    "a1=np.random.randint(0, 10, size=(3, 3))\n",
    "a1"
   ]
  },
  {
   "cell_type": "code",
   "execution_count": 53,
   "id": "568c6180-c4ad-407b-a4cd-c0682d721228",
   "metadata": {},
   "outputs": [
    {
     "data": {
      "text/plain": [
       "(3,)"
      ]
     },
     "execution_count": 53,
     "metadata": {},
     "output_type": "execute_result"
    }
   ],
   "source": [
    "arr.shape"
   ]
  },
  {
   "cell_type": "code",
   "execution_count": 79,
   "id": "e14970a6-9fe6-4c15-8025-a21127e48a95",
   "metadata": {},
   "outputs": [
    {
     "data": {
      "text/plain": [
       "array([[2, 7, 6],\n",
       "       [8, 2, 5],\n",
       "       [6, 7, 5]])"
      ]
     },
     "execution_count": 79,
     "metadata": {},
     "output_type": "execute_result"
    }
   ],
   "source": [
    "a.reshape(3,3)"
   ]
  },
  {
   "cell_type": "code",
   "execution_count": 63,
   "id": "85b7b604-abf3-43d8-ae8b-11561b064466",
   "metadata": {},
   "outputs": [
    {
     "data": {
      "text/plain": [
       "array([1, 2, 3])"
      ]
     },
     "execution_count": 63,
     "metadata": {},
     "output_type": "execute_result"
    }
   ],
   "source": [
    "arr.flatten()"
   ]
  },
  {
   "cell_type": "code",
   "execution_count": 71,
   "id": "ac6df25b-f6fe-4b1e-a691-ce28193f6725",
   "metadata": {},
   "outputs": [
    {
     "data": {
      "text/plain": [
       "array([[2, 8, 6],\n",
       "       [7, 2, 7],\n",
       "       [6, 5, 5]])"
      ]
     },
     "execution_count": 71,
     "metadata": {},
     "output_type": "execute_result"
    }
   ],
   "source": [
    "np.transpose(a)"
   ]
  },
  {
   "cell_type": "code",
   "execution_count": 89,
   "id": "fcc19143-5c1b-4afa-9ffa-1187deda00de",
   "metadata": {},
   "outputs": [
    {
     "data": {
      "text/plain": [
       "array([[2, 7, 6],\n",
       "       [8, 2, 5],\n",
       "       [6, 7, 5],\n",
       "       [5, 7, 7],\n",
       "       [4, 5, 0],\n",
       "       [6, 0, 5]])"
      ]
     },
     "execution_count": 89,
     "metadata": {},
     "output_type": "execute_result"
    }
   ],
   "source": [
    "np.concatenate((a, a1), axis=0)"
   ]
  },
  {
   "cell_type": "code",
   "execution_count": 91,
   "id": "2a6b1c4c-2e68-40d9-948d-780bc754c6c5",
   "metadata": {},
   "outputs": [
    {
     "data": {
      "text/plain": [
       "(array([[2, 7, 6, 5, 7, 7],\n",
       "        [8, 2, 5, 4, 5, 0],\n",
       "        [6, 7, 5, 6, 0, 5]]),\n",
       " array([[2, 7, 6],\n",
       "        [8, 2, 5],\n",
       "        [6, 7, 5],\n",
       "        [5, 7, 7],\n",
       "        [4, 5, 0],\n",
       "        [6, 0, 5]]))"
      ]
     },
     "execution_count": 91,
     "metadata": {},
     "output_type": "execute_result"
    }
   ],
   "source": [
    "np.hstack((a, a1)), np.vstack((a, a1))"
   ]
  },
  {
   "cell_type": "code",
   "execution_count": 97,
   "id": "01a7bb85-3a45-4c4c-acd4-3521bc18ff3f",
   "metadata": {},
   "outputs": [
    {
     "data": {
      "text/plain": [
       "array([[ 7, 14, 13],\n",
       "       [12,  7,  5],\n",
       "       [12,  7, 10]])"
      ]
     },
     "execution_count": 97,
     "metadata": {},
     "output_type": "execute_result"
    }
   ],
   "source": [
    "np.add(a,a1)"
   ]
  },
  {
   "cell_type": "code",
   "execution_count": 101,
   "id": "00137e7e-35a0-4583-9481-59f08f7e1f50",
   "metadata": {},
   "outputs": [
    {
     "data": {
      "text/plain": [
       "array([[-3,  0, -1],\n",
       "       [ 4, -3,  5],\n",
       "       [ 0,  7,  0]])"
      ]
     },
     "execution_count": 101,
     "metadata": {},
     "output_type": "execute_result"
    }
   ],
   "source": [
    "np.subtract(a,a1)"
   ]
  },
  {
   "cell_type": "code",
   "execution_count": 103,
   "id": "6b0ea503-7cf5-4a9c-8ed3-a9e50594873e",
   "metadata": {},
   "outputs": [
    {
     "data": {
      "text/plain": [
       "array([[10, 49, 42],\n",
       "       [32, 10,  0],\n",
       "       [36,  0, 25]])"
      ]
     },
     "execution_count": 103,
     "metadata": {},
     "output_type": "execute_result"
    }
   ],
   "source": [
    "np.multiply(a,a1)"
   ]
  },
  {
   "cell_type": "code",
   "execution_count": 105,
   "id": "3681ca5e-c0ff-43a1-bef6-a93c7f221162",
   "metadata": {},
   "outputs": [
    {
     "name": "stderr",
     "output_type": "stream",
     "text": [
      "C:\\Users\\Bhavana\\AppData\\Local\\Temp\\ipykernel_9176\\2305498796.py:1: RuntimeWarning: divide by zero encountered in divide\n",
      "  np.divide(a,a1)\n"
     ]
    },
    {
     "data": {
      "text/plain": [
       "array([[0.4       , 1.        , 0.85714286],\n",
       "       [2.        , 0.4       ,        inf],\n",
       "       [1.        ,        inf, 1.        ]])"
      ]
     },
     "execution_count": 105,
     "metadata": {},
     "output_type": "execute_result"
    }
   ],
   "source": [
    "np.divide(a,a1)"
   ]
  },
  {
   "cell_type": "code",
   "execution_count": 107,
   "id": "9da32472-5274-4a76-b3c2-65793665e106",
   "metadata": {},
   "outputs": [
    {
     "data": {
      "text/plain": [
       "array([[74, 49, 44],\n",
       "       [78, 66, 81],\n",
       "       [88, 77, 67]])"
      ]
     },
     "execution_count": 107,
     "metadata": {},
     "output_type": "execute_result"
    }
   ],
   "source": [
    "np.dot(a,a1)"
   ]
  },
  {
   "cell_type": "code",
   "execution_count": 113,
   "id": "c3885b6f-a7a3-4a7d-bfa4-3155eff61ec1",
   "metadata": {},
   "outputs": [
    {
     "data": {
      "text/plain": [
       "array([[1.41421356, 2.64575131, 2.44948974],\n",
       "       [2.82842712, 1.41421356, 2.23606798],\n",
       "       [2.44948974, 2.64575131, 2.23606798]])"
      ]
     },
     "execution_count": 113,
     "metadata": {},
     "output_type": "execute_result"
    }
   ],
   "source": [
    "np.sqrt(a)"
   ]
  },
  {
   "cell_type": "code",
   "execution_count": 115,
   "id": "c5cd24a3-f328-4a8a-9309-4d0506b84dfc",
   "metadata": {},
   "outputs": [
    {
     "data": {
      "text/plain": [
       "array([[0.69314718, 1.94591015, 1.79175947],\n",
       "       [2.07944154, 0.69314718, 1.60943791],\n",
       "       [1.79175947, 1.94591015, 1.60943791]])"
      ]
     },
     "execution_count": 115,
     "metadata": {},
     "output_type": "execute_result"
    }
   ],
   "source": [
    "np.log(a)"
   ]
  },
  {
   "cell_type": "code",
   "execution_count": 117,
   "id": "db0adbb6-c430-4de0-a13c-9017ecc52bf9",
   "metadata": {},
   "outputs": [
    {
     "data": {
      "text/plain": [
       "array([[   7.3890561 , 1096.63315843,  403.42879349],\n",
       "       [2980.95798704,    7.3890561 ,  148.4131591 ],\n",
       "       [ 403.42879349, 1096.63315843,  148.4131591 ]])"
      ]
     },
     "execution_count": 117,
     "metadata": {},
     "output_type": "execute_result"
    }
   ],
   "source": [
    "np.exp(a)"
   ]
  },
  {
   "cell_type": "code",
   "execution_count": 121,
   "id": "0ee7d3a8-0d2b-488e-8fac-aa79267fae73",
   "metadata": {},
   "outputs": [
    {
     "data": {
      "text/plain": [
       "array([[ 4, 49, 36],\n",
       "       [64,  4, 25],\n",
       "       [36, 49, 25]], dtype=int32)"
      ]
     },
     "execution_count": 121,
     "metadata": {},
     "output_type": "execute_result"
    }
   ],
   "source": [
    "np.power(a,2)"
   ]
  },
  {
   "cell_type": "code",
   "execution_count": 123,
   "id": "c6fefc35-0ea9-4266-9e4c-e6d1ada00256",
   "metadata": {},
   "outputs": [
    {
     "data": {
      "text/plain": [
       "5.333333333333333"
      ]
     },
     "execution_count": 123,
     "metadata": {},
     "output_type": "execute_result"
    }
   ],
   "source": [
    "np.mean(a)"
   ]
  },
  {
   "cell_type": "markdown",
   "id": "9721a55f-130d-4935-be30-e02b76969390",
   "metadata": {},
   "source": [
    "np.median(a)"
   ]
  },
  {
   "cell_type": "code",
   "execution_count": 126,
   "id": "058d6ca1-584d-4f4c-b704-66b4311f58e2",
   "metadata": {},
   "outputs": [
    {
     "data": {
      "text/plain": [
       "2.0"
      ]
     },
     "execution_count": 126,
     "metadata": {},
     "output_type": "execute_result"
    }
   ],
   "source": [
    "np.std(a)"
   ]
  },
  {
   "cell_type": "code",
   "execution_count": 128,
   "id": "0bb76dd0-3e2a-4dbd-9564-3bb602cc455a",
   "metadata": {},
   "outputs": [
    {
     "data": {
      "text/plain": [
       "48"
      ]
     },
     "execution_count": 128,
     "metadata": {},
     "output_type": "execute_result"
    }
   ],
   "source": [
    "np.sum(a)"
   ]
  },
  {
   "cell_type": "code",
   "execution_count": 132,
   "id": "a995bbd3-2dd2-4ed9-835f-5592f690bc23",
   "metadata": {},
   "outputs": [
    {
     "data": {
      "text/plain": [
       "1411200"
      ]
     },
     "execution_count": 132,
     "metadata": {},
     "output_type": "execute_result"
    }
   ],
   "source": [
    "np.prod(a)"
   ]
  },
  {
   "cell_type": "code",
   "execution_count": 144,
   "id": "02773ab6-78ef-4b5a-a50b-5c05cce01d5a",
   "metadata": {},
   "outputs": [
    {
     "data": {
      "text/plain": [
       "array([2, 7, 6])"
      ]
     },
     "execution_count": 144,
     "metadata": {},
     "output_type": "execute_result"
    }
   ],
   "source": [
    "a[0]"
   ]
  },
  {
   "cell_type": "code",
   "execution_count": 146,
   "id": "1491a1da-904e-4769-a798-8ca6fdc3da62",
   "metadata": {},
   "outputs": [
    {
     "data": {
      "text/plain": [
       "array([[8, 2, 5],\n",
       "       [6, 7, 5]])"
      ]
     },
     "execution_count": 146,
     "metadata": {},
     "output_type": "execute_result"
    }
   ],
   "source": [
    " a[1:3]"
   ]
  },
  {
   "cell_type": "code",
   "execution_count": 148,
   "id": "e79d8248-1f8c-4e13-9a0c-565a8e56e686",
   "metadata": {},
   "outputs": [
    {
     "data": {
      "text/plain": [
       "array([7, 2, 7])"
      ]
     },
     "execution_count": 148,
     "metadata": {},
     "output_type": "execute_result"
    }
   ],
   "source": [
    " a[:, 1]"
   ]
  },
  {
   "cell_type": "code",
   "execution_count": 150,
   "id": "7a728f1f-5bcf-4578-adc6-7c42050d361e",
   "metadata": {},
   "outputs": [
    {
     "data": {
      "text/plain": [
       "array([[2, 7, 6],\n",
       "       [8, 2, 5],\n",
       "       [6, 7, 5]])"
      ]
     },
     "execution_count": 150,
     "metadata": {},
     "output_type": "execute_result"
    }
   ],
   "source": [
    "a"
   ]
  },
  {
   "cell_type": "code",
   "execution_count": 154,
   "id": "303464d6-39c4-40a5-b375-37004aac1946",
   "metadata": {},
   "outputs": [
    {
     "data": {
      "text/plain": [
       "array([7, 6, 8, 6, 7])"
      ]
     },
     "execution_count": 154,
     "metadata": {},
     "output_type": "execute_result"
    }
   ],
   "source": [
    "a[a > 5]"
   ]
  },
  {
   "cell_type": "code",
   "execution_count": 162,
   "id": "af4290af-1a77-4d93-9e46-32a357d98835",
   "metadata": {},
   "outputs": [
    {
     "data": {
      "text/plain": [
       "array([[2, 6, 7],\n",
       "       [2, 5, 8],\n",
       "       [5, 6, 7]])"
      ]
     },
     "execution_count": 162,
     "metadata": {},
     "output_type": "execute_result"
    }
   ],
   "source": [
    "np.sort(a)"
   ]
  },
  {
   "cell_type": "code",
   "execution_count": 164,
   "id": "d20852ce-90ea-4046-80b8-a4626035eab4",
   "metadata": {},
   "outputs": [
    {
     "data": {
      "text/plain": [
       "array([[0, 1, 2],\n",
       "       [0, 1, 2],\n",
       "       [0, 1, 2]], dtype=int64)"
      ]
     },
     "execution_count": 164,
     "metadata": {},
     "output_type": "execute_result"
    }
   ],
   "source": [
    "np.argsort(a)"
   ]
  },
  {
   "cell_type": "code",
   "execution_count": 166,
   "id": "81cbeefe-3f93-49e6-8e7c-aa8fe9319e7e",
   "metadata": {},
   "outputs": [
    {
     "data": {
      "text/plain": [
       "(array([0, 0, 0, 1, 1, 1, 2, 2, 2], dtype=int64),\n",
       " array([0, 1, 2, 0, 1, 2, 0, 1, 2], dtype=int64))"
      ]
     },
     "execution_count": 166,
     "metadata": {},
     "output_type": "execute_result"
    }
   ],
   "source": [
    "np.where(a)"
   ]
  },
  {
   "cell_type": "code",
   "execution_count": 168,
   "id": "60a0fd1d-0f08-4991-8c1a-b38b7c2abad3",
   "metadata": {},
   "outputs": [
    {
     "data": {
      "text/plain": [
       "array([2, 5, 6, 7, 8])"
      ]
     },
     "execution_count": 168,
     "metadata": {},
     "output_type": "execute_result"
    }
   ],
   "source": [
    "np.unique(a)"
   ]
  },
  {
   "cell_type": "code",
   "execution_count": 170,
   "id": "d6f532ff-5252-493d-8152-531752be2954",
   "metadata": {},
   "outputs": [
    {
     "data": {
      "text/plain": [
       "5"
      ]
     },
     "execution_count": 170,
     "metadata": {},
     "output_type": "execute_result"
    }
   ],
   "source": [
    "np.argmax(a)"
   ]
  },
  {
   "cell_type": "code",
   "execution_count": 172,
   "id": "2950ba89-5f0f-4122-83e2-e14ec2535f6d",
   "metadata": {},
   "outputs": [
    {
     "data": {
      "text/plain": [
       "0"
      ]
     },
     "execution_count": 172,
     "metadata": {},
     "output_type": "execute_result"
    }
   ],
   "source": [
    "np.argmin(a)"
   ]
  },
  {
   "cell_type": "code",
   "execution_count": 174,
   "id": "17759e32-8af9-47be-a25f-d82831decdef",
   "metadata": {},
   "outputs": [
    {
     "data": {
      "text/plain": [
       "array([6, 7, 8])"
      ]
     },
     "execution_count": 174,
     "metadata": {},
     "output_type": "execute_result"
    }
   ],
   "source": [
    "arr + 5"
   ]
  },
  {
   "cell_type": "code",
   "execution_count": 176,
   "id": "9f076b53-6350-4c4f-83c9-462b0bd331fa",
   "metadata": {},
   "outputs": [
    {
     "data": {
      "text/plain": [
       "array([[-3.33333333e-01,  1.33226763e-16,  3.33333333e-01],\n",
       "       [ 6.66666667e-01, -5.38461538e-01, -5.12820513e-02],\n",
       "       [-3.33333333e-01,  4.61538462e-01, -5.12820513e-02]])"
      ]
     },
     "execution_count": 176,
     "metadata": {},
     "output_type": "execute_result"
    }
   ],
   "source": [
    "np.linalg.inv(a)"
   ]
  },
  {
   "cell_type": "code",
   "execution_count": 178,
   "id": "e621f7fb-6212-4d52-bb2e-04fb47f54b2d",
   "metadata": {},
   "outputs": [
    {
     "data": {
      "text/plain": [
       "EigResult(eigenvalues=array([16.34802701+0.j        , -1.1740135 +1.00364399j,\n",
       "       -1.1740135 -1.00364399j]), eigenvectors=array([[ 0.54058318+0.j        ,  0.00695241-0.4259815j ,\n",
       "         0.00695241+0.4259815j ],\n",
       "       [ 0.5463015 +0.j        ,  0.69868959+0.j        ,\n",
       "         0.69868959-0.j        ],\n",
       "       [ 0.63978473+0.j        , -0.54095298+0.19414983j,\n",
       "        -0.54095298-0.19414983j]]))"
      ]
     },
     "execution_count": 178,
     "metadata": {},
     "output_type": "execute_result"
    }
   ],
   "source": [
    "np.linalg.eig(a)"
   ]
  },
  {
   "cell_type": "code",
   "execution_count": 180,
   "id": "ef577bc5-c4f1-4cae-b5e3-78b4779038ee",
   "metadata": {},
   "outputs": [
    {
     "data": {
      "text/plain": [
       "17.08800749063506"
      ]
     },
     "execution_count": 180,
     "metadata": {},
     "output_type": "execute_result"
    }
   ],
   "source": [
    "np.linalg.norm(a)"
   ]
  },
  {
   "cell_type": "code",
   "execution_count": 182,
   "id": "56fe047e-b1cc-44bb-9c73-e7a0e8cfe21d",
   "metadata": {},
   "outputs": [
    {
     "data": {
      "text/plain": [
       "38.99999999999999"
      ]
     },
     "execution_count": 182,
     "metadata": {},
     "output_type": "execute_result"
    }
   ],
   "source": [
    "np.linalg.det(a)"
   ]
  },
  {
   "cell_type": "code",
   "execution_count": 186,
   "id": "65f26330-0271-4475-9d1a-551ca4fed3fc",
   "metadata": {},
   "outputs": [
    {
     "data": {
      "text/plain": [
       "array([[ 0.33333333, -2.33333333, -0.66666667],\n",
       "       [ 0.87179487,  1.97435897,  4.41025641],\n",
       "       [-0.12820513, -0.02564103, -2.58974359]])"
      ]
     },
     "execution_count": 186,
     "metadata": {},
     "output_type": "execute_result"
    }
   ],
   "source": [
    "np.linalg.solve(a,a1)"
   ]
  },
  {
   "cell_type": "code",
   "execution_count": 194,
   "id": "74056613-2597-413e-b391-7228e5a7ad5f",
   "metadata": {},
   "outputs": [
    {
     "data": {
      "text/plain": [
       "array([4, 4, 4])"
      ]
     },
     "execution_count": 194,
     "metadata": {},
     "output_type": "execute_result"
    }
   ],
   "source": [
    "np.clip(arr, a_min=4, a_max=10)"
   ]
  },
  {
   "cell_type": "code",
   "execution_count": 200,
   "id": "ef2190ea-cd58-449a-b242-9eb2d8848d44",
   "metadata": {},
   "outputs": [
    {
     "data": {
      "text/plain": [
       "array([2, 3, 1])"
      ]
     },
     "execution_count": 200,
     "metadata": {},
     "output_type": "execute_result"
    }
   ],
   "source": [
    "np.random.shuffle(arr)\n",
    "arr"
   ]
  },
  {
   "cell_type": "code",
   "execution_count": 204,
   "id": "6ae27363-fe81-4cb9-92a9-3bf3a11d8123",
   "metadata": {},
   "outputs": [
    {
     "data": {
      "text/plain": [
       "array([2, 3, 1])"
      ]
     },
     "execution_count": 204,
     "metadata": {},
     "output_type": "execute_result"
    }
   ],
   "source": [
    "np.save('data.npy', arr)\n",
    "loaded = np.load('data.npy')\n",
    "arr"
   ]
  },
  {
   "cell_type": "code",
   "execution_count": 206,
   "id": "3773bfd9-358f-4399-a8de-e8412b3e4f7e",
   "metadata": {},
   "outputs": [],
   "source": [
    "np.savetxt('data.txt', arr, delimiter=',')"
   ]
  },
  {
   "cell_type": "code",
   "execution_count": 208,
   "id": "986be3b1-0649-4837-b0ea-acfb6fe1c157",
   "metadata": {},
   "outputs": [
    {
     "data": {
      "text/plain": [
       "array([2, 3, 1])"
      ]
     },
     "execution_count": 208,
     "metadata": {},
     "output_type": "execute_result"
    }
   ],
   "source": [
    "arr"
   ]
  },
  {
   "cell_type": "code",
   "execution_count": null,
   "id": "5bffdeb8-6730-4863-a934-e456f4ced2d1",
   "metadata": {},
   "outputs": [],
   "source": []
  }
 ],
 "metadata": {
  "kernelspec": {
   "display_name": "Python 3 (ipykernel)",
   "language": "python",
   "name": "python3"
  },
  "language_info": {
   "codemirror_mode": {
    "name": "ipython",
    "version": 3
   },
   "file_extension": ".py",
   "mimetype": "text/x-python",
   "name": "python",
   "nbconvert_exporter": "python",
   "pygments_lexer": "ipython3",
   "version": "3.12.7"
  }
 },
 "nbformat": 4,
 "nbformat_minor": 5
}
