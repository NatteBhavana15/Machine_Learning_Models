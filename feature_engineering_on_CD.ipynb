{
 "cells": [
  {
   "cell_type": "code",
   "execution_count": 1,
   "id": "64884bbf-94e9-4e5c-bdda-120e156368a2",
   "metadata": {},
   "outputs": [],
   "source": [
    "import numpy as np\n",
    "import pandas as pd\n",
    "from sklearn.preprocessing import LabelEncoder, OneHotEncoder, OrdinalEncoder\n",
    "from sklearn.model_selection import train_test_split\n"
   ]
  },
  {
   "cell_type": "code",
   "execution_count": 2,
   "id": "779260df-63cb-4f94-998c-021c51eebc7c",
   "metadata": {},
   "outputs": [],
   "source": [
    "# Sample dataset\n",
    "data = {\n",
    "    'Education': ['High_School', \"Bachelor\", \"Master\", \"PhD\", \"Bachelor\", \"Master\", \"PhD\", \"High_School\"],\n",
    "    'City': ['New York', 'Los Angeles', 'Chicago', 'Houston', 'New York', 'Chicago', 'Houston', 'Los Angeles'],\n",
    "    'Salary': [50000, 60000, 80000, 90000, 55000, 85000, 92000, 48000],\n",
    "    'Purchased': [1, 0, 1, 1, 0, 1, 1, 0]  # Target variable\n",
    "}\n"
   ]
  },
  {
   "cell_type": "code",
   "execution_count": 3,
   "id": "2aef626e-7fc2-4373-a61b-89768281f242",
   "metadata": {},
   "outputs": [],
   "source": [
    "df = pd.DataFrame(data)"
   ]
  },
  {
   "cell_type": "code",
   "execution_count": 4,
   "id": "e1b76cb6-bb9c-4d75-9592-e2dc08140397",
   "metadata": {
    "scrolled": true
   },
   "outputs": [
    {
     "data": {
      "text/html": [
       "<div>\n",
       "<style scoped>\n",
       "    .dataframe tbody tr th:only-of-type {\n",
       "        vertical-align: middle;\n",
       "    }\n",
       "\n",
       "    .dataframe tbody tr th {\n",
       "        vertical-align: top;\n",
       "    }\n",
       "\n",
       "    .dataframe thead th {\n",
       "        text-align: right;\n",
       "    }\n",
       "</style>\n",
       "<table border=\"1\" class=\"dataframe\">\n",
       "  <thead>\n",
       "    <tr style=\"text-align: right;\">\n",
       "      <th></th>\n",
       "      <th>Education</th>\n",
       "      <th>City</th>\n",
       "      <th>Salary</th>\n",
       "      <th>Purchased</th>\n",
       "    </tr>\n",
       "  </thead>\n",
       "  <tbody>\n",
       "    <tr>\n",
       "      <th>0</th>\n",
       "      <td>High_School</td>\n",
       "      <td>New York</td>\n",
       "      <td>50000</td>\n",
       "      <td>1</td>\n",
       "    </tr>\n",
       "    <tr>\n",
       "      <th>1</th>\n",
       "      <td>Bachelor</td>\n",
       "      <td>Los Angeles</td>\n",
       "      <td>60000</td>\n",
       "      <td>0</td>\n",
       "    </tr>\n",
       "    <tr>\n",
       "      <th>2</th>\n",
       "      <td>Master</td>\n",
       "      <td>Chicago</td>\n",
       "      <td>80000</td>\n",
       "      <td>1</td>\n",
       "    </tr>\n",
       "    <tr>\n",
       "      <th>3</th>\n",
       "      <td>PhD</td>\n",
       "      <td>Houston</td>\n",
       "      <td>90000</td>\n",
       "      <td>1</td>\n",
       "    </tr>\n",
       "    <tr>\n",
       "      <th>4</th>\n",
       "      <td>Bachelor</td>\n",
       "      <td>New York</td>\n",
       "      <td>55000</td>\n",
       "      <td>0</td>\n",
       "    </tr>\n",
       "    <tr>\n",
       "      <th>5</th>\n",
       "      <td>Master</td>\n",
       "      <td>Chicago</td>\n",
       "      <td>85000</td>\n",
       "      <td>1</td>\n",
       "    </tr>\n",
       "    <tr>\n",
       "      <th>6</th>\n",
       "      <td>PhD</td>\n",
       "      <td>Houston</td>\n",
       "      <td>92000</td>\n",
       "      <td>1</td>\n",
       "    </tr>\n",
       "    <tr>\n",
       "      <th>7</th>\n",
       "      <td>High_School</td>\n",
       "      <td>Los Angeles</td>\n",
       "      <td>48000</td>\n",
       "      <td>0</td>\n",
       "    </tr>\n",
       "  </tbody>\n",
       "</table>\n",
       "</div>"
      ],
      "text/plain": [
       "     Education         City  Salary  Purchased\n",
       "0  High_School     New York   50000          1\n",
       "1     Bachelor  Los Angeles   60000          0\n",
       "2       Master      Chicago   80000          1\n",
       "3          PhD      Houston   90000          1\n",
       "4     Bachelor     New York   55000          0\n",
       "5       Master      Chicago   85000          1\n",
       "6          PhD      Houston   92000          1\n",
       "7  High_School  Los Angeles   48000          0"
      ]
     },
     "execution_count": 4,
     "metadata": {},
     "output_type": "execute_result"
    }
   ],
   "source": [
    "df"
   ]
  },
  {
   "cell_type": "code",
   "execution_count": 5,
   "id": "5f4fecf8-1caf-415b-9779-c5248deb6b53",
   "metadata": {},
   "outputs": [
    {
     "name": "stdout",
     "output_type": "stream",
     "text": [
      "\n",
      "One-Hot Encoded Education:\n"
     ]
    },
    {
     "data": {
      "text/html": [
       "<div>\n",
       "<style scoped>\n",
       "    .dataframe tbody tr th:only-of-type {\n",
       "        vertical-align: middle;\n",
       "    }\n",
       "\n",
       "    .dataframe tbody tr th {\n",
       "        vertical-align: top;\n",
       "    }\n",
       "\n",
       "    .dataframe thead th {\n",
       "        text-align: right;\n",
       "    }\n",
       "</style>\n",
       "<table border=\"1\" class=\"dataframe\">\n",
       "  <thead>\n",
       "    <tr style=\"text-align: right;\">\n",
       "      <th></th>\n",
       "      <th>Education</th>\n",
       "      <th>City</th>\n",
       "      <th>Salary</th>\n",
       "      <th>Purchased</th>\n",
       "      <th>Education_Bachelor</th>\n",
       "      <th>Education_High_School</th>\n",
       "      <th>Education_Master</th>\n",
       "      <th>Education_PhD</th>\n",
       "    </tr>\n",
       "  </thead>\n",
       "  <tbody>\n",
       "    <tr>\n",
       "      <th>0</th>\n",
       "      <td>High_School</td>\n",
       "      <td>New York</td>\n",
       "      <td>50000</td>\n",
       "      <td>1</td>\n",
       "      <td>0.0</td>\n",
       "      <td>1.0</td>\n",
       "      <td>0.0</td>\n",
       "      <td>0.0</td>\n",
       "    </tr>\n",
       "    <tr>\n",
       "      <th>1</th>\n",
       "      <td>Bachelor</td>\n",
       "      <td>Los Angeles</td>\n",
       "      <td>60000</td>\n",
       "      <td>0</td>\n",
       "      <td>1.0</td>\n",
       "      <td>0.0</td>\n",
       "      <td>0.0</td>\n",
       "      <td>0.0</td>\n",
       "    </tr>\n",
       "    <tr>\n",
       "      <th>2</th>\n",
       "      <td>Master</td>\n",
       "      <td>Chicago</td>\n",
       "      <td>80000</td>\n",
       "      <td>1</td>\n",
       "      <td>0.0</td>\n",
       "      <td>0.0</td>\n",
       "      <td>1.0</td>\n",
       "      <td>0.0</td>\n",
       "    </tr>\n",
       "    <tr>\n",
       "      <th>3</th>\n",
       "      <td>PhD</td>\n",
       "      <td>Houston</td>\n",
       "      <td>90000</td>\n",
       "      <td>1</td>\n",
       "      <td>0.0</td>\n",
       "      <td>0.0</td>\n",
       "      <td>0.0</td>\n",
       "      <td>1.0</td>\n",
       "    </tr>\n",
       "    <tr>\n",
       "      <th>4</th>\n",
       "      <td>Bachelor</td>\n",
       "      <td>New York</td>\n",
       "      <td>55000</td>\n",
       "      <td>0</td>\n",
       "      <td>1.0</td>\n",
       "      <td>0.0</td>\n",
       "      <td>0.0</td>\n",
       "      <td>0.0</td>\n",
       "    </tr>\n",
       "  </tbody>\n",
       "</table>\n",
       "</div>"
      ],
      "text/plain": [
       "     Education         City  Salary  Purchased  Education_Bachelor  \\\n",
       "0  High_School     New York   50000          1                 0.0   \n",
       "1     Bachelor  Los Angeles   60000          0                 1.0   \n",
       "2       Master      Chicago   80000          1                 0.0   \n",
       "3          PhD      Houston   90000          1                 0.0   \n",
       "4     Bachelor     New York   55000          0                 1.0   \n",
       "\n",
       "   Education_High_School  Education_Master  Education_PhD  \n",
       "0                    1.0               0.0            0.0  \n",
       "1                    0.0               0.0            0.0  \n",
       "2                    0.0               1.0            0.0  \n",
       "3                    0.0               0.0            1.0  \n",
       "4                    0.0               0.0            0.0  "
      ]
     },
     "execution_count": 5,
     "metadata": {},
     "output_type": "execute_result"
    }
   ],
   "source": [
    "# One-Hot Encoding (for Nominal Data)\n",
    "ohe = OneHotEncoder(sparse_output=False)\n",
    "edu_ohe = ohe.fit_transform(df[['Education']])\n",
    "edu_ohe_df = pd.DataFrame(edu_ohe, columns=ohe.get_feature_names_out(['Education']))\n",
    "df = df.join(edu_ohe_df)\n",
    "print(\"\\nOne-Hot Encoded Education:\")\n",
    "df.head()\n"
   ]
  },
  {
   "cell_type": "code",
   "execution_count": 6,
   "id": "08eb1e67-f921-4225-92da-d678c6f172bc",
   "metadata": {},
   "outputs": [
    {
     "name": "stdout",
     "output_type": "stream",
     "text": [
      "\n",
      "Label Encoded Education:\n",
      "     Education  Education_Label\n",
      "0  High_School                1\n",
      "1     Bachelor                0\n",
      "2       Master                2\n",
      "3          PhD                3\n",
      "4     Bachelor                0\n",
      "5       Master                2\n",
      "6          PhD                3\n",
      "7  High_School                1\n"
     ]
    }
   ],
   "source": [
    "le = LabelEncoder()\n",
    "df['Education_Label'] = le.fit_transform(df['Education'])\n",
    "print(\"\\nLabel Encoded Education:\")\n",
    "print(df[['Education', 'Education_Label']])"
   ]
  },
  {
   "cell_type": "code",
   "execution_count": 7,
   "id": "8a172b25-bdc7-4070-8fcd-c32ba5abbfe9",
   "metadata": {},
   "outputs": [
    {
     "name": "stdout",
     "output_type": "stream",
     "text": [
      "\n",
      "Ordinal Encoded Education:\n",
      "     Education  Education_Ordinal\n",
      "0  High_School                0.0\n",
      "1     Bachelor                1.0\n",
      "2       Master                2.0\n",
      "3          PhD                3.0\n",
      "4     Bachelor                1.0\n",
      "5       Master                2.0\n",
      "6          PhD                3.0\n",
      "7  High_School                0.0\n"
     ]
    }
   ],
   "source": [
    "# Ordinal Encoding (for Ordered Categories)\n",
    "ordinal_enc = OrdinalEncoder(categories=[['High_School', \"Bachelor\", \"Master\", \"PhD\"]])\n",
    "df['Education_Ordinal'] = ordinal_enc.fit_transform(df[['Education']])\n",
    "print(\"\\nOrdinal Encoded Education:\")\n",
    "print(df[['Education', 'Education_Ordinal']])"
   ]
  },
  {
   "cell_type": "code",
   "execution_count": 8,
   "id": "6fc96ddb-5057-4ccf-98a9-e436ae5316ae",
   "metadata": {},
   "outputs": [
    {
     "name": "stdout",
     "output_type": "stream",
     "text": [
      "\n",
      "Frequency Encoded City:\n",
      "          City  City_Frequency\n",
      "0     New York               2\n",
      "1  Los Angeles               2\n",
      "2      Chicago               2\n",
      "3      Houston               2\n",
      "4     New York               2\n",
      "5      Chicago               2\n",
      "6      Houston               2\n",
      "7  Los Angeles               2\n"
     ]
    }
   ],
   "source": [
    "# Frequency Encoding\n",
    "freq_enc = df['City'].value_counts().to_dict()\n",
    "df['City_Frequency'] = df['City'].map(freq_enc)\n",
    "print(\"\\nFrequency Encoded City:\")\n",
    "print(df[['City', 'City_Frequency']])\n"
   ]
  },
  {
   "cell_type": "code",
   "execution_count": 9,
   "id": "a2d85a06-3d1f-4f69-9306-945d8be17f99",
   "metadata": {},
   "outputs": [
    {
     "name": "stdout",
     "output_type": "stream",
     "text": [
      "\n",
      "Target Encoded City (Train Set):\n",
      "          City  City_Target\n",
      "7  Los Angeles          0.0\n",
      "2      Chicago          1.0\n",
      "4     New York          0.0\n",
      "3      Houston          1.0\n",
      "6      Houston          1.0\n",
      "\n",
      "Target Encoded City (Test Set):\n",
      "          City  City_Target\n",
      "1  Los Angeles          0.0\n",
      "5      Chicago          1.0\n",
      "0     New York          0.0\n"
     ]
    }
   ],
   "source": [
    "X_train, X_test, y_train, y_test = train_test_split(df[['City']], df['Purchased'], test_size=0.3, random_state=42)\n",
    "\n",
    "# Compute Mean Target Encoding on Training Set\n",
    "city_target_means = X_train.join(y_train).groupby('City')['Purchased'].mean().to_dict()\n",
    "\n",
    "# Apply Target Encoding\n",
    "X_train['City_Target'] = X_train['City'].map(city_target_means)\n",
    "X_test['City_Target'] = X_test['City'].map(city_target_means)  # Use training means\n",
    "\n",
    "# Print Results\n",
    "print(\"\\nTarget Encoded City (Train Set):\")\n",
    "print(X_train)\n",
    "print(\"\\nTarget Encoded City (Test Set):\")\n",
    "print(X_test)"
   ]
  },
  {
   "cell_type": "code",
   "execution_count": null,
   "id": "1770f3df-0488-4799-b9a4-cd2a807dfbb1",
   "metadata": {},
   "outputs": [],
   "source": []
  }
 ],
 "metadata": {
  "kernelspec": {
   "display_name": "Python 3 (ipykernel)",
   "language": "python",
   "name": "python3"
  },
  "language_info": {
   "codemirror_mode": {
    "name": "ipython",
    "version": 3
   },
   "file_extension": ".py",
   "mimetype": "text/x-python",
   "name": "python",
   "nbconvert_exporter": "python",
   "pygments_lexer": "ipython3",
   "version": "3.12.7"
  }
 },
 "nbformat": 4,
 "nbformat_minor": 5
}
