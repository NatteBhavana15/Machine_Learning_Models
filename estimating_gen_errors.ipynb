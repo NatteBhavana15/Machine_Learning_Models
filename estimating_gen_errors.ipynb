{
 "cells": [
  {
   "cell_type": "code",
   "execution_count": 1,
   "id": "4f2678db-c2a9-40e3-82e0-1b45745b3662",
   "metadata": {},
   "outputs": [
    {
     "name": "stdout",
     "output_type": "stream",
     "text": [
      "Iteration 1 - Accuracy: 0.8967\n",
      "Iteration 2 - Accuracy: 0.9000\n",
      "Iteration 3 - Accuracy: 0.8933\n",
      "Iteration 4 - Accuracy: 0.8900\n",
      "Iteration 5 - Accuracy: 0.8733\n",
      "\n",
      "Average Accuracy over 5 iterations: 0.8907\n"
     ]
    }
   ],
   "source": [
    "import numpy as np\n",
    "from sklearn.model_selection import train_test_split\n",
    "from sklearn.ensemble import RandomForestClassifier\n",
    "from sklearn.datasets import make_classification\n",
    "from sklearn.metrics import accuracy_score\n",
    "\n",
    "# Create a synthetic dataset\n",
    "X, y = make_classification(n_samples=1000, n_features=20, n_classes=2, random_state=42)\n",
    "\n",
    "# Parameters\n",
    "num_iterations = 5  # Number of random subsampling iterations\n",
    "test_size = 0.3  # 30% data for testing\n",
    "accuracies = []\n",
    "\n",
    "# Random subsampling\n",
    "for i in range(num_iterations):\n",
    "    # Randomly split data into training and test sets\n",
    "    X_train, X_test, y_train, y_test = train_test_split(X, y, test_size=test_size, random_state=i)\n",
    "    \n",
    "    # Train a model\n",
    "    model = RandomForestClassifier(random_state=42)\n",
    "    model.fit(X_train, y_train)\n",
    "    \n",
    "    # Evaluate on the test set\n",
    "    y_pred = model.predict(X_test)\n",
    "    accuracy = accuracy_score(y_test, y_pred)\n",
    "    accuracies.append(accuracy)\n",
    "    \n",
    "    print(f\"Iteration {i+1} - Accuracy: {accuracy:.4f}\")\n",
    "\n",
    "# Average accuracy over all iterations\n",
    "average_accuracy = np.mean(accuracies)\n",
    "print(f\"\\nAverage Accuracy over {num_iterations} iterations: {average_accuracy:.4f}\")"
   ]
  },
  {
   "cell_type": "code",
   "execution_count": 3,
   "id": "5a985c0a-69af-4814-9411-14e2a9a1de26",
   "metadata": {},
   "outputs": [
    {
     "name": "stdout",
     "output_type": "stream",
     "text": [
      "Fold 1 - Accuracy: 0.9667\n",
      "Fold 2 - Accuracy: 0.9667\n",
      "Fold 3 - Accuracy: 0.9333\n",
      "Fold 4 - Accuracy: 0.9667\n",
      "Fold 5 - Accuracy: 1.0000\n",
      "\n",
      "Average Accuracy: 0.9667\n"
     ]
    }
   ],
   "source": [
    "from sklearn.datasets import load_iris\n",
    "from sklearn.model_selection import cross_val_score\n",
    "from sklearn.ensemble import RandomForestClassifier\n",
    "\n",
    "# Load dataset\n",
    "data = load_iris()\n",
    "X, y = data.data, data.target\n",
    "\n",
    "# Initialize model\n",
    "model = RandomForestClassifier(random_state=42)\n",
    "\n",
    "# Perform 5-fold cross-validation\n",
    "cv_scores = cross_val_score(model, X, y, cv=5)  # cv=5 means 5-fold cross-validation\n",
    "\n",
    "# Print each fold's accuracy\n",
    "for i, score in enumerate(cv_scores):\n",
    "    print(f\"Fold {i+1} - Accuracy: {score:.4f}\")\n",
    "\n",
    "# Calculate and print average accuracy\n",
    "average_score = cv_scores.mean()\n",
    "print(f\"\\nAverage Accuracy: {average_score:.4f}\")"
   ]
  },
  {
   "cell_type": "code",
   "execution_count": 7,
   "id": "0be65b33-85b9-4ec0-ba84-ff777c0c5cd4",
   "metadata": {},
   "outputs": [
    {
     "name": "stdout",
     "output_type": "stream",
     "text": [
      "Original Class Distribution: Counter({0: 897, 1: 103})\n",
      "Holdout Class Distribution in Train: Counter({0: 627, 1: 73})\n",
      "Holdout Class Distribution in Test: Counter({0: 270, 1: 30})\n",
      "\n",
      "Stratified Holdout Class Distribution in Train: Counter({0: 628, 1: 72})\n",
      "Stratified Holdout Class Distribution in Test: Counter({0: 269, 1: 31})\n",
      "\n",
      "Accuracy using Holdout Method: 0.9400\n",
      "Accuracy using Stratified Holdout Method: 0.9533\n"
     ]
    }
   ],
   "source": [
    "import numpy as np\n",
    "from sklearn.model_selection import train_test_split\n",
    "from sklearn.ensemble import RandomForestClassifier\n",
    "from sklearn.datasets import make_classification\n",
    "from sklearn.metrics import accuracy_score\n",
    "from collections import Counter\n",
    "\n",
    "# Create an imbalanced dataset\n",
    "X, y = make_classification(\n",
    "    n_samples=1000, n_features=20, n_classes=2, weights=[0.9, 0.1], random_state=42\n",
    ")\n",
    "\n",
    "# Display class distribution\n",
    "print(f\"Original Class Distribution: {Counter(y)}\")\n",
    "\n",
    "# Holdout Method (Random Sampling)\n",
    "X_train, X_test, y_train, y_test = train_test_split(X, y, test_size=0.3, random_state=42)\n",
    "print(f\"Holdout Class Distribution in Train: {Counter(y_train)}\")\n",
    "print(f\"Holdout Class Distribution in Test: {Counter(y_test)}\")\n",
    "\n",
    "# Stratified Holdout\n",
    "X_train_strat, X_test_strat, y_train_strat, y_test_strat = train_test_split(\n",
    "    X, y, test_size=0.3, stratify=y, random_state=42\n",
    ")\n",
    "print(f\"\\nStratified Holdout Class Distribution in Train: {Counter(y_train_strat)}\")\n",
    "print(f\"Stratified Holdout Class Distribution in Test: {Counter(y_test_strat)}\")\n",
    "\n",
    "# Train and evaluate on the Holdout method\n",
    "model = RandomForestClassifier(random_state=42)\n",
    "model.fit(X_train, y_train)\n",
    "y_pred_holdout = model.predict(X_test)\n",
    "accuracy_holdout = accuracy_score(y_test, y_pred_holdout)\n",
    "\n",
    "# Train and evaluate on the Stratified Holdout method\n",
    "model.fit(X_train_strat, y_train_strat)\n",
    "y_pred_stratified = model.predict(X_test_strat)\n",
    "accuracy_stratified = accuracy_score(y_test_strat, y_pred_stratified)\n",
    "\n",
    "# Print accuracies\n",
    "print(f\"\\nAccuracy using Holdout Method: {accuracy_holdout:.4f}\")\n",
    "print(f\"Accuracy using Stratified Holdout Method: {accuracy_stratified:.4f}\")"
   ]
  },
  {
   "cell_type": "code",
   "execution_count": null,
   "id": "0e8b910d-6ceb-4280-bbf1-46378384518b",
   "metadata": {},
   "outputs": [],
   "source": []
  }
 ],
 "metadata": {
  "kernelspec": {
   "display_name": "Python 3 (ipykernel)",
   "language": "python",
   "name": "python3"
  },
  "language_info": {
   "codemirror_mode": {
    "name": "ipython",
    "version": 3
   },
   "file_extension": ".py",
   "mimetype": "text/x-python",
   "name": "python",
   "nbconvert_exporter": "python",
   "pygments_lexer": "ipython3",
   "version": "3.12.7"
  }
 },
 "nbformat": 4,
 "nbformat_minor": 5
}
